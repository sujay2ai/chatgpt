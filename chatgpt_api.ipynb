{
  "nbformat": 4,
  "nbformat_minor": 0,
  "metadata": {
    "colab": {
      "provenance": [],
      "authorship_tag": "ABX9TyMixYsyGSN5Lo6QXn6PNg8N",
      "include_colab_link": true
    },
    "kernelspec": {
      "name": "python3",
      "display_name": "Python 3"
    },
    "language_info": {
      "name": "python"
    }
  },
  "cells": [
    {
      "cell_type": "markdown",
      "metadata": {
        "id": "view-in-github",
        "colab_type": "text"
      },
      "source": [
        "<a href=\"https://colab.research.google.com/github/VitikaJain25/chatgpt/blob/main/chatgpt_api.ipynb\" target=\"_parent\"><img src=\"https://colab.research.google.com/assets/colab-badge.svg\" alt=\"Open In Colab\"/></a>"
      ]
    },
    {
      "cell_type": "code",
      "source": [
        " pip install openai"
      ],
      "metadata": {
        "colab": {
          "base_uri": "https://localhost:8080/"
        },
        "id": "VNK_NvXpc5p3",
        "outputId": "947be162-f089-4f7f-fe79-6a5403067789"
      },
      "execution_count": 2,
      "outputs": [
        {
          "output_type": "stream",
          "name": "stdout",
          "text": [
            "Looking in indexes: https://pypi.org/simple, https://us-python.pkg.dev/colab-wheels/public/simple/\n",
            "Collecting openai\n",
            "  Downloading openai-0.26.5.tar.gz (55 kB)\n",
            "\u001b[2K     \u001b[90m━━━━━━━━━━━━━━━━━━━━━━━━━━━━━━━━━━━━━━━━\u001b[0m \u001b[32m55.5/55.5 KB\u001b[0m \u001b[31m4.1 MB/s\u001b[0m eta \u001b[36m0:00:00\u001b[0m\n",
            "\u001b[?25h  Installing build dependencies ... \u001b[?25l\u001b[?25hdone\n",
            "  Getting requirements to build wheel ... \u001b[?25l\u001b[?25hdone\n",
            "  Installing backend dependencies ... \u001b[?25l\u001b[?25hdone\n",
            "  Preparing metadata (pyproject.toml) ... \u001b[?25l\u001b[?25hdone\n",
            "Requirement already satisfied: requests>=2.20 in /usr/local/lib/python3.8/dist-packages (from openai) (2.25.1)\n",
            "Requirement already satisfied: aiohttp in /usr/local/lib/python3.8/dist-packages (from openai) (3.8.4)\n",
            "Requirement already satisfied: tqdm in /usr/local/lib/python3.8/dist-packages (from openai) (4.64.1)\n",
            "Requirement already satisfied: chardet<5,>=3.0.2 in /usr/local/lib/python3.8/dist-packages (from requests>=2.20->openai) (4.0.0)\n",
            "Requirement already satisfied: idna<3,>=2.5 in /usr/local/lib/python3.8/dist-packages (from requests>=2.20->openai) (2.10)\n",
            "Requirement already satisfied: certifi>=2017.4.17 in /usr/local/lib/python3.8/dist-packages (from requests>=2.20->openai) (2022.12.7)\n",
            "Requirement already satisfied: urllib3<1.27,>=1.21.1 in /usr/local/lib/python3.8/dist-packages (from requests>=2.20->openai) (1.24.3)\n",
            "Requirement already satisfied: multidict<7.0,>=4.5 in /usr/local/lib/python3.8/dist-packages (from aiohttp->openai) (6.0.4)\n",
            "Requirement already satisfied: aiosignal>=1.1.2 in /usr/local/lib/python3.8/dist-packages (from aiohttp->openai) (1.3.1)\n",
            "Requirement already satisfied: frozenlist>=1.1.1 in /usr/local/lib/python3.8/dist-packages (from aiohttp->openai) (1.3.3)\n",
            "Requirement already satisfied: attrs>=17.3.0 in /usr/local/lib/python3.8/dist-packages (from aiohttp->openai) (22.2.0)\n",
            "Requirement already satisfied: charset-normalizer<4.0,>=2.0 in /usr/local/lib/python3.8/dist-packages (from aiohttp->openai) (3.0.1)\n",
            "Requirement already satisfied: async-timeout<5.0,>=4.0.0a3 in /usr/local/lib/python3.8/dist-packages (from aiohttp->openai) (4.0.2)\n",
            "Requirement already satisfied: yarl<2.0,>=1.0 in /usr/local/lib/python3.8/dist-packages (from aiohttp->openai) (1.8.2)\n",
            "Building wheels for collected packages: openai\n",
            "  Building wheel for openai (pyproject.toml) ... \u001b[?25l\u001b[?25hdone\n",
            "  Created wheel for openai: filename=openai-0.26.5-py3-none-any.whl size=67620 sha256=ea2f031e276a5ed3e34e68b8775b062e993baf73aba4961d9d27f2a2fc5c4648\n",
            "  Stored in directory: /root/.cache/pip/wheels/a7/47/99/8273a59fbd59c303e8ff175416d5c1c9c03a2e83ebf7525a99\n",
            "Successfully built openai\n",
            "Installing collected packages: openai\n",
            "Successfully installed openai-0.26.5\n"
          ]
        }
      ]
    },
    {
      "cell_type": "code",
      "execution_count": 3,
      "metadata": {
        "id": "4B2iho_0biwh"
      },
      "outputs": [],
      "source": [
        "# For python to connect to COMPLETION API.\n",
        "import openai"
      ]
    },
    {
      "cell_type": "code",
      "source": [
        "# Go to Open AI website - click on profile icon and click on \"view API keys\"\n",
        "openai.api_key = \"your key\""
      ],
      "metadata": {
        "id": "ISmEeUl9c4eR"
      },
      "execution_count": 4,
      "outputs": []
    },
    {
      "cell_type": "code",
      "source": [
        "from openai.api_resources import model\n",
        "#  create is a function where you can enter parameters\n",
        "output = openai.Completion.create(\n",
        "    prompt = \"What is python\",\n",
        "    model = \"text-davinci-003\"\n",
        ")"
      ],
      "metadata": {
        "id": "P7Ob9c-ccQXN"
      },
      "execution_count": 5,
      "outputs": []
    },
    {
      "cell_type": "code",
      "source": [
        "output"
      ],
      "metadata": {
        "colab": {
          "base_uri": "https://localhost:8080/"
        },
        "id": "UQqUrfjHfEgT",
        "outputId": "61273e5e-1863-4112-971e-c48877dba4b5"
      },
      "execution_count": 6,
      "outputs": [
        {
          "output_type": "execute_result",
          "data": {
            "text/plain": [
              "<OpenAIObject text_completion id=cmpl-6lguY67Wc6lkV8fZ0WPDxhUXb45mk at 0x7f1cf00660e0> JSON: {\n",
              "  \"choices\": [\n",
              "    {\n",
              "      \"finish_reason\": \"length\",\n",
              "      \"index\": 0,\n",
              "      \"logprobs\": null,\n",
              "      \"text\": \"\\n\\nPython is a high-level, interpreted, general-purpose programming language\"\n",
              "    }\n",
              "  ],\n",
              "  \"created\": 1676824386,\n",
              "  \"id\": \"cmpl-6lguY67Wc6lkV8fZ0WPDxhUXb45mk\",\n",
              "  \"model\": \"text-davinci-003\",\n",
              "  \"object\": \"text_completion\",\n",
              "  \"usage\": {\n",
              "    \"completion_tokens\": 16,\n",
              "    \"prompt_tokens\": 3,\n",
              "    \"total_tokens\": 19\n",
              "  }\n",
              "}"
            ]
          },
          "metadata": {},
          "execution_count": 6
        }
      ]
    },
    {
      "cell_type": "code",
      "source": [
        "output[\"choices\"]"
      ],
      "metadata": {
        "colab": {
          "base_uri": "https://localhost:8080/"
        },
        "id": "fU3TAz40fOv2",
        "outputId": "849fae6f-670e-400f-b3eb-00784cf76916"
      },
      "execution_count": 7,
      "outputs": [
        {
          "output_type": "execute_result",
          "data": {
            "text/plain": [
              "[<OpenAIObject at 0x7f1ce8bf1130> JSON: {\n",
              "   \"finish_reason\": \"length\",\n",
              "   \"index\": 0,\n",
              "   \"logprobs\": null,\n",
              "   \"text\": \"\\n\\nPython is a high-level, interpreted, general-purpose programming language\"\n",
              " }]"
            ]
          },
          "metadata": {},
          "execution_count": 7
        }
      ]
    },
    {
      "cell_type": "code",
      "source": [
        "output[\"choices\"][\"text\"]"
      ],
      "metadata": {
        "colab": {
          "base_uri": "https://localhost:8080/",
          "height": 164
        },
        "id": "7NCpPZ9RfX1h",
        "outputId": "7c38c965-380e-4bc9-b12d-d17e728a9ba0"
      },
      "execution_count": 8,
      "outputs": [
        {
          "output_type": "error",
          "ename": "TypeError",
          "evalue": "ignored",
          "traceback": [
            "\u001b[0;31m---------------------------------------------------------------------------\u001b[0m",
            "\u001b[0;31mTypeError\u001b[0m                                 Traceback (most recent call last)",
            "\u001b[0;32m<ipython-input-8-3fe121d1abf7>\u001b[0m in \u001b[0;36m<module>\u001b[0;34m\u001b[0m\n\u001b[0;32m----> 1\u001b[0;31m \u001b[0moutput\u001b[0m\u001b[0;34m[\u001b[0m\u001b[0;34m\"choices\"\u001b[0m\u001b[0;34m]\u001b[0m\u001b[0;34m[\u001b[0m\u001b[0;34m\"text\"\u001b[0m\u001b[0;34m]\u001b[0m\u001b[0;34m\u001b[0m\u001b[0;34m\u001b[0m\u001b[0m\n\u001b[0m",
            "\u001b[0;31mTypeError\u001b[0m: list indices must be integers or slices, not str"
          ]
        }
      ]
    },
    {
      "cell_type": "code",
      "source": [
        "# Above giving error as the information is inside an array (check square bracket)\n",
        "# So we have to navigate to the array forst.\n",
        "output[\"choices\"][0][\"text\"]"
      ],
      "metadata": {
        "colab": {
          "base_uri": "https://localhost:8080/",
          "height": 35
        },
        "id": "vbfn1i0hffqY",
        "outputId": "f02fa3be-3edb-4c97-cfe5-c9694cdb69ed"
      },
      "execution_count": 9,
      "outputs": [
        {
          "output_type": "execute_result",
          "data": {
            "text/plain": [
              "'\\n\\nPython is a high-level, interpreted, general-purpose programming language'"
            ],
            "application/vnd.google.colaboratory.intrinsic+json": {
              "type": "string"
            }
          },
          "metadata": {},
          "execution_count": 9
        }
      ]
    },
    {
      "cell_type": "code",
      "source": [
        "# Prompt Design is very import. Key : Context\n",
        "# Be very clear what you what and what is the context.\n",
        "\n",
        "myprompt = \"What is python\""
      ],
      "metadata": {
        "id": "eTWDC1YmtTeZ"
      },
      "execution_count": 10,
      "outputs": []
    },
    {
      "cell_type": "code",
      "source": [
        "from openai.api_resources import model\n",
        "#  create is a function where you can enter parameters\n",
        "output = openai.Completion.create(\n",
        "    prompt = myprompt,\n",
        "    model = \"text-davinci-003\",\n",
        "    max_tokens = 2000\n",
        ")"
      ],
      "metadata": {
        "id": "DWXi-GsQtK-0"
      },
      "execution_count": 11,
      "outputs": []
    },
    {
      "cell_type": "code",
      "source": [
        "output[\"choices\"][0][\"text\"]"
      ],
      "metadata": {
        "colab": {
          "base_uri": "https://localhost:8080/",
          "height": 52
        },
        "id": "rH7T4pQstjF3",
        "outputId": "fe89795a-b7aa-4b5a-b061-0db6b539c3e8"
      },
      "execution_count": 12,
      "outputs": [
        {
          "output_type": "execute_result",
          "data": {
            "text/plain": [
              "'\\n\\nPython is an interpreted, object-oriented, high-level programming language with dynamic semantics. It is an easy-to-learn, powerful language that is used by a variety of software developers for web development, scripting, scientific computing, artificial intelligence, and many other applications. Python offers powerful libraries and various tools for a wide variety of tasks.'"
            ],
            "application/vnd.google.colaboratory.intrinsic+json": {
              "type": "string"
            }
          },
          "metadata": {},
          "execution_count": 12
        }
      ]
    },
    {
      "cell_type": "code",
      "source": [
        "open(\"dll.c\", 'w')"
      ],
      "metadata": {
        "colab": {
          "base_uri": "https://localhost:8080/"
        },
        "id": "MaCPbvUMtngG",
        "outputId": "301eb5bf-67aa-45db-da73-452dee2e3f1a"
      },
      "execution_count": 13,
      "outputs": [
        {
          "output_type": "execute_result",
          "data": {
            "text/plain": [
              "<_io.TextIOWrapper name='dll.c' mode='w' encoding='UTF-8'>"
            ]
          },
          "metadata": {},
          "execution_count": 13
        }
      ]
    },
    {
      "cell_type": "code",
      "source": [
        "print(output[\"choices\"][0][\"text\"])"
      ],
      "metadata": {
        "colab": {
          "base_uri": "https://localhost:8080/"
        },
        "id": "leQjyZKftwpH",
        "outputId": "0d1ef1c9-a3dc-4d33-89c3-2be796ecee52"
      },
      "execution_count": 14,
      "outputs": [
        {
          "output_type": "stream",
          "name": "stdout",
          "text": [
            "\n",
            "\n",
            "Python is an interpreted, object-oriented, high-level programming language with dynamic semantics. It is an easy-to-learn, powerful language that is used by a variety of software developers for web development, scripting, scientific computing, artificial intelligence, and many other applications. Python offers powerful libraries and various tools for a wide variety of tasks.\n"
          ]
        }
      ]
    },
    {
      "cell_type": "code",
      "source": [
        "myprompt = \"give me details about startup called tinku and minku\""
      ],
      "metadata": {
        "id": "tz0wv6TDub_8"
      },
      "execution_count": 15,
      "outputs": []
    },
    {
      "cell_type": "code",
      "source": [
        "from openai.api_resources import model\n",
        "output = openai.Completion.create(\n",
        "    prompt = myprompt,\n",
        "    model = \"text-davinci-003\",\n",
        "    max_tokens = 2000\n",
        ")"
      ],
      "metadata": {
        "id": "06ATUp1sujru"
      },
      "execution_count": 16,
      "outputs": []
    },
    {
      "cell_type": "code",
      "source": [
        "print(output[\"choices\"][0][\"text\"])"
      ],
      "metadata": {
        "colab": {
          "base_uri": "https://localhost:8080/"
        },
        "id": "iHXBkiwdupRd",
        "outputId": "25eeaf50-0d84-4561-b6d3-76b48ce923d9"
      },
      "execution_count": 17,
      "outputs": [
        {
          "output_type": "stream",
          "name": "stdout",
          "text": [
            "\n",
            "\n",
            "Tinku & Minku is a fashion tech startup based in Copenhagen, Denmark. The company has launched its first product line, an adjustable bracelet for kids, inspired by the Japanese “lucky charm” motifs. It was founded last August 2018 by two Swedish entrepreneurs, Erik & Charlotte Strömberg. The company's mission is to offer stylish, comfortable and affordable jewelry for active children. Tinku & Minku bracelets are designed to be light and flexible, allowing children to wear them all day long while they are playing, running or doing sports activities. The company also offers personalized engraving to give each bracelet an even more individual touch. The company also plans to expand its product range in following years to all types of accessories, not just bracelets.\n"
          ]
        }
      ]
    },
    {
      "cell_type": "code",
      "source": [
        "myprompt = \"give me details about startup called tinku and minku, only tell me answer if you are 100% sure, otherwise tell me 'I dont know'\"\n",
        "# prompt hallucination"
      ],
      "metadata": {
        "id": "HCco6ArXusTI"
      },
      "execution_count": 18,
      "outputs": []
    },
    {
      "cell_type": "code",
      "source": [
        "from openai.api_resources import model\n",
        "output = openai.Completion.create(\n",
        "    prompt = myprompt,\n",
        "    model = \"text-davinci-003\",\n",
        "    max_tokens = 2000\n",
        ")"
      ],
      "metadata": {
        "id": "U6om-Bnnu8oc"
      },
      "execution_count": 19,
      "outputs": []
    },
    {
      "cell_type": "code",
      "source": [
        "print(output[\"choices\"][0][\"text\"])"
      ],
      "metadata": {
        "colab": {
          "base_uri": "https://localhost:8080/"
        },
        "id": "U16Gfgs0u97_",
        "outputId": "d12860f0-cde3-462d-a776-b2611dc6405b"
      },
      "execution_count": 20,
      "outputs": [
        {
          "output_type": "stream",
          "name": "stdout",
          "text": [
            "\n",
            "\n",
            "I don't know.\n"
          ]
        }
      ]
    }
  ]
}